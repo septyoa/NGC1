{
 "cells": [
  {
   "cell_type": "code",
   "execution_count": 1,
   "metadata": {},
   "outputs": [],
   "source": [
    "#NGC1\n",
    "#20240904"
   ]
  },
  {
   "cell_type": "code",
   "execution_count": 2,
   "metadata": {},
   "outputs": [],
   "source": [
    "#Task 1\n",
    "#Given list of costumer_id that doing transaction in one 1 day:\n",
    "\n",
    "costumer_id = ['B818', 'A461', 'A092', 'A082', 'B341', 'A005', 'A092', 'A461','B219', 'B904', 'A901', 'A083', 'B904', 'A092', 'B341', 'B821','B341', 'B821', 'B904', 'B818', 'A901', 'A083', 'B818', 'A082','B219', 'B219', 'A083', 'A901', 'A082', 'B341', 'B341', 'A083','A082', 'B219', 'B439', 'A461', 'A005', 'A901', 'B341', 'A082','A083', 'A461', 'A083', 'A901', 'A461', 'A083', 'A082', 'A083','B341', 'A901', 'A082', 'A461', 'B219', 'A083', 'B818', 'B821','A092', 'B341', 'A461', 'A092', 'A083', 'B821', 'A092']\n",
    "#How many unique costumer_id from the list?"
   ]
  },
  {
   "cell_type": "code",
   "execution_count": 55,
   "metadata": {},
   "outputs": [
    {
     "name": "stdout",
     "output_type": "stream",
     "text": [
      "The amount of unique_id is : 12\n"
     ]
    }
   ],
   "source": [
    "#Answer for Task1\n",
    "def unique(costumer_id):\n",
    "    set_id=set(costumer_id)\n",
    "    unique_id=(list(set_id))\n",
    "    for x in unique_id:\n",
    "        print (x)\n",
    "print(\"The amount of unique_id is :\", len(set(costumer_id)))\n",
    "#Yup, line 2-6 was useless since I was trying to make a new list of unique ids, but turns out I can't use len function on the new list, but let me keep it as a reminder\n",
    "#also sorry for not paying attention on this part in the class"
   ]
  },
  {
   "cell_type": "code",
   "execution_count": 3,
   "metadata": {},
   "outputs": [],
   "source": [
    "#Task 2\n",
    "#Given list of:\n",
    "Data =[1, 4, 9, 16, 25, 36, 49,  64, 81, 100]\n",
    "#Use indexing so you can get this output:\n",
    "#a. 16\n",
    "#b. [36, 49, 64, 81]\n",
    "#c. [100, 81, 64, 49, 36, 25, 16, 9, 4, 1]"
   ]
  },
  {
   "cell_type": "code",
   "execution_count": 60,
   "metadata": {},
   "outputs": [
    {
     "name": "stdout",
     "output_type": "stream",
     "text": [
      "a.  16\n",
      "b.  [36, 49, 64, 81]\n",
      "c.  [100, 81, 64, 49, 36, 25, 16, 9, 4, 1]\n"
     ]
    }
   ],
   "source": [
    "#Answer of Task 2\n",
    "#a\n",
    "print(\"a. \",Data[3])\n",
    "\n",
    "#b\n",
    "print(\"b. \", Data[5:9])\n",
    "\n",
    "#c\n",
    "print(\"c. \", Data[::-1])"
   ]
  },
  {
   "cell_type": "code",
   "execution_count": 4,
   "metadata": {},
   "outputs": [],
   "source": [
    "#Task 3\n",
    "#Given a Dictionary of:\n",
    "\n",
    "Provinsi = {'Nanggroe Aceh Darussalam': 'Aceh',\n",
    "            'Sumatera Selatan': 'Palembang',\n",
    "            'Kalimantan Barat': 'Pontianak',\n",
    "            'Jawa Timur': 'Madiun',\n",
    "            'Sulawesi Selatan': 'Makassar',\n",
    "            'Maluku': 'Ambon'}\n",
    "#what python command can be use to:\n",
    "#a. Get list of keys available in dictionary\n",
    "#b. Change 'Jawa Timur' value from 'Madiun' to 'Surabaya'"
   ]
  },
  {
   "cell_type": "code",
   "execution_count": 64,
   "metadata": {},
   "outputs": [
    {
     "name": "stdout",
     "output_type": "stream",
     "text": [
      "['Nanggroe Aceh Darussalam', 'Sumatera Selatan', 'Kalimantan Barat', 'Jawa Timur', 'Sulawesi Selatan', 'Maluku']\n",
      "Surabaya\n",
      "{'Nanggroe Aceh Darussalam': 'Aceh', 'Sumatera Selatan': 'Palembang', 'Kalimantan Barat': 'Pontianak', 'Jawa Timur': 'Surabaya', 'Sulawesi Selatan': 'Makassar', 'Maluku': 'Ambon'}\n"
     ]
    }
   ],
   "source": [
    "#a\n",
    "KeyList= list(Provinsi.keys())\n",
    "print(KeyList)\n",
    "\n",
    "#b\n",
    "Provinsi[\"Jawa Timur\"]=\"Surabaya\"\n",
    "print(Provinsi[\"Jawa Timur\"])\n",
    "print(Provinsi)"
   ]
  }
 ],
 "metadata": {
  "kernelspec": {
   "display_name": "Python 3",
   "language": "python",
   "name": "python3"
  },
  "language_info": {
   "codemirror_mode": {
    "name": "ipython",
    "version": 3
   },
   "file_extension": ".py",
   "mimetype": "text/x-python",
   "name": "python",
   "nbconvert_exporter": "python",
   "pygments_lexer": "ipython3",
   "version": "3.11.5"
  }
 },
 "nbformat": 4,
 "nbformat_minor": 2
}
